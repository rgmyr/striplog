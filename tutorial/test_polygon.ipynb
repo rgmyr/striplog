{
 "cells": [
  {
   "cell_type": "code",
   "execution_count": 1,
   "metadata": {},
   "outputs": [],
   "source": [
    "import striplog\n",
    "\n",
    "import numpy as np\n",
    "\n",
    "import matplotlib as mpl\n",
    "import matplotlib.pyplot as plt"
   ]
  },
  {
   "cell_type": "code",
   "execution_count": 2,
   "metadata": {},
   "outputs": [],
   "source": [
    "facies = {\n",
    "    'sand'  : striplog.Component({'lithology' : 'S'}),\n",
    "    'shale' : striplog.Component({'lithology' : 'SH'})\n",
    "}\n",
    "\n",
    "sand_decor = striplog.Decor({\n",
    "    'component': facies['sand'],\n",
    "    'colour': 'yellow',\n",
    "    'hatch': '.'\n",
    "})\n",
    "\n",
    "shale_decor = striplog.Decor({\n",
    "    'component': facies['shale'],\n",
    "    'colour': 'darkgray',\n",
    "    'hatch': '-'\n",
    "})\n",
    "\n",
    "legend = striplog.Legend([sand_decor, shale_decor])"
   ]
  },
  {
   "cell_type": "code",
   "execution_count": 9,
   "metadata": {},
   "outputs": [],
   "source": [
    "# sand interval -- fixed width\n",
    "sand1 = striplog.Interval(\n",
    "        top = 1000.,\n",
    "        base = 1005.,\n",
    "        components = [facies['sand']],\n",
    "        data = {'gs' : 2.0}\n",
    ")\n",
    "\n",
    "# shale interval -- fixed width\n",
    "shale1 = striplog.Interval(\n",
    "        top = 1005.,\n",
    "        base = 1010.,\n",
    "        components = [facies['shale']],\n",
    "        data = {'gs' : 0.5}\n",
    ")\n",
    "\n",
    "# sand interval -- variable width\n",
    "sand_gs = np.array([\n",
    "    [1010.5, 2.5],\n",
    "    [1012., 2.2],\n",
    "    [1014., 2.7]\n",
    "])\n",
    "\n",
    "sand2 = striplog.Interval(\n",
    "        top = 1010.,\n",
    "        base = 1015.,\n",
    "        components = [facies['sand']],\n",
    "        data = {'gs' : sand_gs}\n",
    ")\n",
    "\n",
    "# shale interval -- variable width\n",
    "shale_gs = np.array([\n",
    "    [1015., 0.3],\n",
    "    [1017., 0.5],\n",
    "    [1018., 0.7]\n",
    "])\n",
    "\n",
    "shale2 = striplog.Interval(\n",
    "        top = 1015.,\n",
    "        base = 1020.,\n",
    "        components = [facies['shale']],\n",
    "        data = {'gs' : shale_gs}\n",
    ")"
   ]
  },
  {
   "cell_type": "code",
   "execution_count": 10,
   "metadata": {},
   "outputs": [],
   "source": [
    "slog = striplog.Striplog([sand2, shale2])"
   ]
  },
  {
   "cell_type": "code",
   "execution_count": 11,
   "metadata": {},
   "outputs": [
    {
     "name": "stdout",
     "output_type": "stream",
     "text": [
      "{}\n",
      "#ffff00 #ffff00\n",
      "(1.0, 1.0, 0.0, 1.0) #ffff00\n",
      "{}\n",
      "#a9a9a9 #a9a9a9\n",
      "(0.6627450980392157, 0.6627450980392157, 0.6627450980392157, 1.0) #a9a9a9\n"
     ]
    },
    {
     "data": {
      "image/png": "[encoded data removed]",
      "text/plain": [
       "<Figure size 360x1080 with 1 Axes>"
      ]
     },
     "metadata": {
      "needs_background": "light"
     },
     "output_type": "display_data"
    }
   ],
   "source": [
    "fig, ax = plt.subplots(figsize=(5,15))\n",
    "\n",
    "ax = slog.plot(field='gs', ax=ax, legend=legend)"
   ]
  },
  {
   "cell_type": "code",
   "execution_count": 6,
   "metadata": {},
   "outputs": [],
   "source": [
    "p1, p2 = ax.patches"
   ]
  },
  {
   "cell_type": "code",
   "execution_count": 7,
   "metadata": {},
   "outputs": [
    {
     "data": {
      "text/plain": [
       "((1.0, 1.0, 0.0, 1.0), (0.0, 0.0, 0.0, 1), '.')"
      ]
     },
     "execution_count": 7,
     "metadata": {},
     "output_type": "execute_result"
    }
   ],
   "source": [
    "p1.get_fc(), p1.get_ec(), p1.get_hatch()"
   ]
  },
  {
   "cell_type": "code",
   "execution_count": 8,
   "metadata": {},
   "outputs": [
    {
     "data": {
      "text/plain": [
       "(0, 1)"
      ]
     },
     "execution_count": 8,
     "metadata": {},
     "output_type": "execute_result"
    },
    {
     "data": {
      "image/png": "[encoded data removed]",
      "text/plain": [
       "<Figure size 504x504 with 1 Axes>"
      ]
     },
     "metadata": {
      "needs_background": "light"
     },
     "output_type": "display_data"
    }
   ],
   "source": [
    "fig, ax = plt.subplots(figsize=(7,7))\n",
    "\n",
    "#ax.set_xlim(0,1)\n",
    "#ax.set_ylim(0,1)\n",
    "\n",
    "poly = mpl.patches.Polygon(np.array([[0.25,0.25], [0.5, 0.75], [0.75,0.25]]),\n",
    "                        closed=True,\n",
    "                        fc='#dc0218',\n",
    "                        lw=3,\n",
    "                        hatch='+',\n",
    "                        ec='k')\n",
    "\n",
    "# for some reason, have to set properties after \n",
    "# nvm, even this doesn't work\n",
    "#poly.set_fc(fc); print(poly.get_fc(), fc)\n",
    "#poly.set_ec(ec)\n",
    "#poly.set_lw(lw)\n",
    "#poly.set_hatch(d.hatch)\n",
    "\n",
    "ax.add_patch(poly)\n",
    "\n",
    "ax.set_xlim(0,1)\n",
    "ax.set_ylim(0,1)"
   ]
  },
  {
   "cell_type": "code",
   "execution_count": null,
   "metadata": {},
   "outputs": [],
   "source": []
  }
 ],
 "metadata": {
  "kernelspec": {
   "display_name": "Python 3",
   "language": "python",
   "name": "python3"
  },
  "language_info": {
   "codemirror_mode": {
    "name": "ipython",
    "version": 3
   },
   "file_extension": ".py",
   "mimetype": "text/x-python",
   "name": "python",
   "nbconvert_exporter": "python",
   "pygments_lexer": "ipython3",
   "version": "3.7.2"
  }
 },
 "nbformat": 4,
 "nbformat_minor": 2
}
