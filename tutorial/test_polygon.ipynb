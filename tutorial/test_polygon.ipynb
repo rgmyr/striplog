{
 "cells": [
  {
   "cell_type": "code",
   "execution_count": 1,
   "metadata": {},
   "outputs": [],
   "source": [
    "import striplog\n",
    "\n",
    "import numpy as np\n",
    "\n",
    "import matplotlib as mpl\n",
    "import matplotlib.pyplot as plt"
   ]
  },
  {
   "cell_type": "code",
   "execution_count": 2,
   "metadata": {},
   "outputs": [],
   "source": [
    "facies = {\n",
    "    'sand'  : striplog.Component({'lithology' : 'S'}),\n",
    "    'shale' : striplog.Component({'lithology' : 'SH'})\n",
    "}\n",
    "\n",
    "sand_decor = striplog.Decor({\n",
    "    'component': facies['sand'],\n",
    "    'colour': 'yellow',\n",
    "    'hatch': '.'\n",
    "})\n",
    "\n",
    "shale_decor = striplog.Decor({\n",
    "    'component': facies['shale'],\n",
    "    'colour': 'darkgray',\n",
    "    'hatch': '-'\n",
    "})\n",
    "\n",
    "legend = striplog.Legend([sand_decor, shale_decor])"
   ]
  },
  {
   "cell_type": "code",
   "execution_count": 3,
   "metadata": {},
   "outputs": [],
   "source": [
    "# sand interval -- fixed width\n",
    "sand1 = striplog.Interval(\n",
    "        top = 1000.,\n",
    "        base = 1005.,\n",
    "        components = [facies['sand']],\n",
    "        data = {'gs' : 2.0}\n",
    ")\n",
    "\n",
    "# shale interval -- fixed width\n",
    "shale1 = striplog.Interval(\n",
    "        top = 1005.,\n",
    "        base = 1010.,\n",
    "        components = [facies['shale']],\n",
    "        data = {'gs' : 0.5}\n",
    ")\n",
    "\n",
    "# sand interval -- variable width\n",
    "sand_gs = np.array([\n",
    "    [1010.5, 2.5],\n",
    "    [1012., 2.2],\n",
    "    [1014., 2.7]\n",
    "])\n",
    "\n",
    "sand2 = striplog.Interval(\n",
    "        top = 1010.,\n",
    "        base = 1015.,\n",
    "        components = [facies['sand']],\n",
    "        data = {'gs' : sand_gs}\n",
    ")\n",
    "\n",
    "# shale interval -- variable width\n",
    "shale_gs = np.array([\n",
    "    [1015., 0.3],\n",
    "    [1017., 0.5],\n",
    "    [1018., 0.7]\n",
    "])\n",
    "\n",
    "shale2 = striplog.Interval(\n",
    "        top = 1015.,\n",
    "        base = 1020.,\n",
    "        components = [facies['shale']],\n",
    "        data = {'gs' : shale_gs}\n",
    ")"
   ]
  },
  {
   "cell_type": "code",
   "execution_count": 4,
   "metadata": {},
   "outputs": [],
   "source": [
    "slog = striplog.Striplog([sand1, shale1, sand2, shale2])"
   ]
  },
  {
   "cell_type": "code",
   "execution_count": 5,
   "metadata": {},
   "outputs": [
    {
     "data": {
      "image/png": "[encoded data removed]",
      "text/plain": [
       "<Figure size 360x1080 with 1 Axes>"
      ]
     },
     "metadata": {
      "needs_background": "light"
     },
     "output_type": "display_data"
    }
   ],
   "source": [
    "fig, ax = plt.subplots(figsize=(5,15))\n",
    "\n",
    "ax = slog.plot(field='gs', ax=ax, legend=legend)"
   ]
  }
 ],
 "metadata": {
  "kernelspec": {
   "display_name": "Python 3",
   "language": "python",
   "name": "python3"
  },
  "language_info": {
   "codemirror_mode": {
    "name": "ipython",
    "version": 3
   },
   "file_extension": ".py",
   "mimetype": "text/x-python",
   "name": "python",
   "nbconvert_exporter": "python",
   "pygments_lexer": "ipython3",
   "version": "3.7.2"
  }
 },
 "nbformat": 4,
 "nbformat_minor": 2
}
